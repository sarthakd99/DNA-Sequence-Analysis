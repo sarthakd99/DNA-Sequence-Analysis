{
  "nbformat": 4,
  "nbformat_minor": 0,
  "metadata": {
    "colab": {
      "name": "DNA Sequence Analysis.ipynb",
      "provenance": [],
      "collapsed_sections": [],
      "mount_file_id": "1D_R4vJ9_RRvf_HLyp2MKEd_J0AtnOVTF",
      "authorship_tag": "ABX9TyOUQRYfARl6PmEQnl/jX/LH",
      "include_colab_link": true
    },
    "kernelspec": {
      "name": "python3",
      "display_name": "Python 3"
    },
    "language_info": {
      "name": "python"
    }
  },
  "cells": [
    {
      "cell_type": "markdown",
      "metadata": {
        "id": "view-in-github",
        "colab_type": "text"
      },
      "source": [
        "<a href=\"https://colab.research.google.com/github/sarthakd99/Stock-Prediction---TSA/blob/main/DNA_Sequence_Analysis.ipynb\" target=\"_parent\"><img src=\"https://colab.research.google.com/assets/colab-badge.svg\" alt=\"Open In Colab\"/></a>"
      ]
    },
    {
      "cell_type": "markdown",
      "metadata": {
        "id": "v1EsBtI0b7qA"
      },
      "source": [
        "Analysis of DNA Sequence Data using Biopython"
      ]
    },
    {
      "cell_type": "code",
      "metadata": {
        "id": "8mTncFaVb7Fc"
      },
      "source": [
        "import numpy as np\n",
        "import pandas as pd\n",
        "import seaborn as sns\n",
        "import matplotlib.pyplot as plt\n",
        "%matplotlib inline  "
      ],
      "execution_count": 2,
      "outputs": []
    },
    {
      "cell_type": "code",
      "metadata": {
        "colab": {
          "base_uri": "https://localhost:8080/",
          "height": 204
        },
        "id": "k9n0EnHYqAPm",
        "outputId": "b8383f2c-12bc-4cdd-9172-80adbaafe50e"
      },
      "source": [
        "human=pd.read_table('/content/drive/MyDrive/dataset/human.txt')\n",
        "human.head()"
      ],
      "execution_count": 6,
      "outputs": [
        {
          "output_type": "execute_result",
          "data": {
            "text/html": [
              "<div>\n",
              "<style scoped>\n",
              "    .dataframe tbody tr th:only-of-type {\n",
              "        vertical-align: middle;\n",
              "    }\n",
              "\n",
              "    .dataframe tbody tr th {\n",
              "        vertical-align: top;\n",
              "    }\n",
              "\n",
              "    .dataframe thead th {\n",
              "        text-align: right;\n",
              "    }\n",
              "</style>\n",
              "<table border=\"1\" class=\"dataframe\">\n",
              "  <thead>\n",
              "    <tr style=\"text-align: right;\">\n",
              "      <th></th>\n",
              "      <th>sequence</th>\n",
              "      <th>class</th>\n",
              "    </tr>\n",
              "  </thead>\n",
              "  <tbody>\n",
              "    <tr>\n",
              "      <th>0</th>\n",
              "      <td>ATGCCCCAACTAAATACTACCGTATGGCCCACCATAATTACCCCCA...</td>\n",
              "      <td>4</td>\n",
              "    </tr>\n",
              "    <tr>\n",
              "      <th>1</th>\n",
              "      <td>ATGAACGAAAATCTGTTCGCTTCATTCATTGCCCCCACAATCCTAG...</td>\n",
              "      <td>4</td>\n",
              "    </tr>\n",
              "    <tr>\n",
              "      <th>2</th>\n",
              "      <td>ATGTGTGGCATTTGGGCGCTGTTTGGCAGTGATGATTGCCTTTCTG...</td>\n",
              "      <td>3</td>\n",
              "    </tr>\n",
              "    <tr>\n",
              "      <th>3</th>\n",
              "      <td>ATGTGTGGCATTTGGGCGCTGTTTGGCAGTGATGATTGCCTTTCTG...</td>\n",
              "      <td>3</td>\n",
              "    </tr>\n",
              "    <tr>\n",
              "      <th>4</th>\n",
              "      <td>ATGCAACAGCATTTTGAATTTGAATACCAGACCAAAGTGGATGGTG...</td>\n",
              "      <td>3</td>\n",
              "    </tr>\n",
              "  </tbody>\n",
              "</table>\n",
              "</div>"
            ],
            "text/plain": [
              "                                            sequence  class\n",
              "0  ATGCCCCAACTAAATACTACCGTATGGCCCACCATAATTACCCCCA...      4\n",
              "1  ATGAACGAAAATCTGTTCGCTTCATTCATTGCCCCCACAATCCTAG...      4\n",
              "2  ATGTGTGGCATTTGGGCGCTGTTTGGCAGTGATGATTGCCTTTCTG...      3\n",
              "3  ATGTGTGGCATTTGGGCGCTGTTTGGCAGTGATGATTGCCTTTCTG...      3\n",
              "4  ATGCAACAGCATTTTGAATTTGAATACCAGACCAAAGTGGATGGTG...      3"
            ]
          },
          "metadata": {
            "tags": []
          },
          "execution_count": 6
        }
      ]
    },
    {
      "cell_type": "code",
      "metadata": {
        "colab": {
          "base_uri": "https://localhost:8080/"
        },
        "id": "Nl-jXzxwrv9H",
        "outputId": "0746d537-0f37-491f-e2fc-f991506bdbfa"
      },
      "source": [
        "human.shape"
      ],
      "execution_count": 7,
      "outputs": [
        {
          "output_type": "execute_result",
          "data": {
            "text/plain": [
              "(4380, 2)"
            ]
          },
          "metadata": {
            "tags": []
          },
          "execution_count": 7
        }
      ]
    },
    {
      "cell_type": "code",
      "metadata": {
        "colab": {
          "base_uri": "https://localhost:8080/",
          "height": 52
        },
        "id": "mLZithGCrypg",
        "outputId": "e7c2fab8-c8d0-416d-a6a1-6fb2d1c64553"
      },
      "source": [
        "human[\"sequence\"][0]"
      ],
      "execution_count": 8,
      "outputs": [
        {
          "output_type": "execute_result",
          "data": {
            "application/vnd.google.colaboratory.intrinsic+json": {
              "type": "string"
            },
            "text/plain": [
              "'ATGCCCCAACTAAATACTACCGTATGGCCCACCATAATTACCCCCATACTCCTTACACTATTCCTCATCACCCAACTAAAAATATTAAACACAAACTACCACCTACCTCCCTCACCAAAGCCCATAAAAATAAAAAATTATAACAAACCCTGAGAACCAAAATGAACGAAAATCTGTTCGCTTCATTCATTGCCCCCACAATCCTAG'"
            ]
          },
          "metadata": {
            "tags": []
          },
          "execution_count": 8
        }
      ]
    },
    {
      "cell_type": "markdown",
      "metadata": {
        "id": "5fLQGdzHLpHE"
      },
      "source": [
        "Function to collate over-lapping k-mers of length 4"
      ]
    },
    {
      "cell_type": "code",
      "metadata": {
        "id": "0f9nAEHysCOb"
      },
      "source": [
        "def getKmers(sequence, size=4):\n",
        "    return [sequence[x:x+size].lower() for x in range(len(sequence) - size + 1)]"
      ],
      "execution_count": 9,
      "outputs": []
    },
    {
      "cell_type": "code",
      "metadata": {
        "colab": {
          "base_uri": "https://localhost:8080/",
          "height": 204
        },
        "id": "O0uOpru1N0x8",
        "outputId": "dcb7180a-fbfc-4e38-8323-a8429dd2b86a"
      },
      "source": [
        "human[\"words\"]=human.apply(lambda x: getKmers(x[\"sequence\"]),axis=1)\n",
        "human=human.drop(\"sequence\",axis=1)\n",
        "human.head()"
      ],
      "execution_count": 11,
      "outputs": [
        {
          "output_type": "execute_result",
          "data": {
            "text/html": [
              "<div>\n",
              "<style scoped>\n",
              "    .dataframe tbody tr th:only-of-type {\n",
              "        vertical-align: middle;\n",
              "    }\n",
              "\n",
              "    .dataframe tbody tr th {\n",
              "        vertical-align: top;\n",
              "    }\n",
              "\n",
              "    .dataframe thead th {\n",
              "        text-align: right;\n",
              "    }\n",
              "</style>\n",
              "<table border=\"1\" class=\"dataframe\">\n",
              "  <thead>\n",
              "    <tr style=\"text-align: right;\">\n",
              "      <th></th>\n",
              "      <th>class</th>\n",
              "      <th>words</th>\n",
              "    </tr>\n",
              "  </thead>\n",
              "  <tbody>\n",
              "    <tr>\n",
              "      <th>0</th>\n",
              "      <td>4</td>\n",
              "      <td>[atgc, tgcc, gccc, cccc, ccca, ccaa, caac, aac...</td>\n",
              "    </tr>\n",
              "    <tr>\n",
              "      <th>1</th>\n",
              "      <td>4</td>\n",
              "      <td>[atga, tgaa, gaac, aacg, acga, cgaa, gaaa, aaa...</td>\n",
              "    </tr>\n",
              "    <tr>\n",
              "      <th>2</th>\n",
              "      <td>3</td>\n",
              "      <td>[atgt, tgtg, gtgt, tgtg, gtgg, tggc, ggca, gca...</td>\n",
              "    </tr>\n",
              "    <tr>\n",
              "      <th>3</th>\n",
              "      <td>3</td>\n",
              "      <td>[atgt, tgtg, gtgt, tgtg, gtgg, tggc, ggca, gca...</td>\n",
              "    </tr>\n",
              "    <tr>\n",
              "      <th>4</th>\n",
              "      <td>3</td>\n",
              "      <td>[atgc, tgca, gcaa, caac, aaca, acag, cagc, agc...</td>\n",
              "    </tr>\n",
              "  </tbody>\n",
              "</table>\n",
              "</div>"
            ],
            "text/plain": [
              "   class                                              words\n",
              "0      4  [atgc, tgcc, gccc, cccc, ccca, ccaa, caac, aac...\n",
              "1      4  [atga, tgaa, gaac, aacg, acga, cgaa, gaaa, aaa...\n",
              "2      3  [atgt, tgtg, gtgt, tgtg, gtgg, tggc, ggca, gca...\n",
              "3      3  [atgt, tgtg, gtgt, tgtg, gtgg, tggc, ggca, gca...\n",
              "4      3  [atgc, tgca, gcaa, caac, aaca, acag, cagc, agc..."
            ]
          },
          "metadata": {
            "tags": []
          },
          "execution_count": 11
        }
      ]
    },
    {
      "cell_type": "markdown",
      "metadata": {
        "id": "JDLyum1xOOGJ"
      },
      "source": [
        "Building vocabular of string from k-mers"
      ]
    },
    {
      "cell_type": "code",
      "metadata": {
        "colab": {
          "base_uri": "https://localhost:8080/",
          "height": 171
        },
        "id": "OuXQFhjZN70y",
        "outputId": "a3a004e8-dfac-4877-e191-a3880b55d62b"
      },
      "source": [
        "human_texts=list(human[\"words\"])\n",
        "for item in range(len(human_texts)):\n",
        "    human_texts[item] = ' '.join(human_texts[item])\n",
        "y_human = human.iloc[:, 0].values  \n",
        "\n",
        "human_texts[2]"
      ],
      "execution_count": 13,
      "outputs": [
        {
          "output_type": "execute_result",
          "data": {
            "application/vnd.google.colaboratory.intrinsic+json": {
              "type": "string"
            },
            "text/plain": [
              "'atgt tgtg gtgt tgtg gtgg tggc ggca gcat catt attt tttg ttgg tggg gggc ggcg gcgc cgct gctg ctgt tgtt gttt tttg ttgg tggc ggca gcag cagt agtg gtga tgat gatg atga tgat gatt attg ttgc tgcc gcct cctt cttt tttc ttct tctg ctgt tgtt gttc ttca tcag cagt agtg gtgt tgtc gtct tctg ctga tgag gagt agtg gtgc tgct gcta ctat tatg atga tgaa gaag aaga agat gatt attg ttgc tgca gcac caca acac caca acag caga agag gagg aggt ggtc gtcc tcca ccag caga agat gatg atgc tgca gcat catt attc ttcc tccg ccgt cgtt gttt tttt tttg ttga tgag gaga agaa gaat aatg atgt tgtc gtca tcaa caat aatg atgg tgga ggat gata atac taca acac cacc acca ccaa caac aact actg ctgc tgct gctg ctgc tgct gctt cttt tttg ttgg tgga ggat gatt attt tttc ttca tcac cacc accg ccgg cggt ggtt gttg ttgg tggc ggcg gcgg cggt ggta gtag tagt agtt gttg ttga tgac gacc accc cccg ccgc cgct gctg ctgt tgtt gttt tttg ttgg tgga ggaa gaat aatg atgc tgca gcag cagc agcc gcca ccaa caat aatt attc ttcg tcga cgag gagt agtg gtga tgaa gaag aaga agaa gaaa aaat aata atat tatc atcc tccg ccgt cgta gtat tatt attt tttg ttgt tgtg gtgg tggc ggct gctc ctct tctg ctgt tgtt gtta ttac taca acaa caat aatg atgg tggt ggtg gtga tgaa gaaa aaat aatc atct tcta ctac taca acaa caac aacc acca ccat cata ataa taag aaga agaa gaag aaga agat gatg atgc tgca gcaa caac aaca acag cagc agca gcat catt attt tttt tttg ttga tgaa gaat aatt attt tttg ttga tgaa gaat aata atac tacc acca ccag caga agac gacc acca ccaa caaa aaag aagt agtg gtgg tgga ggat gatg atgg tggt ggtg gtga tgag gaga agat gata ataa taat aatc atcc tcct cctt cttc ttca tcat catc atct tctt cttt ttta ttat tatg atga tgac gaca acaa caaa aaag aagg agga ggag gagg agga ggaa gaat aatt attg ttga tgag gagc agca gcaa caaa aaac aaca acaa caat aatt attt tttg ttgt tgta gtat tatg atgt tgtt gttg ttgg tgga ggat gatg atgg tggt ggtg gtgt tgtg gtgt tgtt gttt tttg ttgc tgca gcat catt attt tttg ttgt tgtt gttt tttt ttta ttac tact actg ctgg tgga ggat gata atac tact actg ctgc tgcc gcca ccaa caat aata ataa taag aaga agaa gaaa aaag aagt agtg gtgt tgtt gttc ttcc tcct cctg ctgg tggg gggt ggta gtag taga agag gaga agat gata atac taca acat cata atat tatg atgg tgga ggag gagt agtc gtca tcag caga agac gacc acct cctt cttt tttg ttgt tgtt gttt ttta ttaa taaa aaag aagc agca gcaa caat aatg atga tgac gaca acag caga agaa gaag aaga agat gatg atgg tgga ggat gatt attt tttt tttt tttg ttgg tggc ggct gctg ctgt tgta gtat tatg atgt tgtt gttc ttca tcag caga agaa gaag aagc agct gcta ctaa taaa aaag aagg aggt ggtc gtct tctt cttg ttgt tgtt gtta ttac taca acat catt attg ttga tgaa gaag aagc agca gcac cact actc ctcc tccg ccgc cgcg gcga cgac gact actc ctcc tccc ccct cctt cttt tttt tttt ttta ttaa taaa aaaa aaag aagt agtg gtgg tgga ggag gagc agcc gcct cctt cttt tttt tttc ttct tctt cttc ttcc tcct cctg ctgg tgga ggac gaca acac cact acta ctat tatg atga tgaa gaag aagt agtt gttt tttt tttg ttgg tgga ggat gatt attt ttta ttaa taaa aaag aagc agcc gcca ccaa caaa aaat aatg atgg tggc ggca gcaa caaa aaag aagt agtt gttg ttgc tgca gcat catc atcc tccg ccgt cgtg gtgg tgga ggaa gaaa aaat aatg atgg tggt ggtt gtta ttaa taaa aaat aata atat tatc atca tcat catc atca tcac cact actg ctgt tgtc gtcg tcgg cggg ggga ggat gatg atgt tgta gtac tacc accc cccc ccct cctg ctgc tgca gcac cacg acgc cgcc gccc ccct cctc ctct tcta ctat tatg atga tgac gaca acaa caat aatg atgt tgtg gtgg tgga ggag gaga agaa gaaa aaac aact actc ctct tctt cttt tttc ttcc tcca ccag cagg aggt ggtt gttt tttt tttg ttga tgag gaga agat gata atag taga agaa gaaa aaac aact actg ctgt tgtg gtga tgaa gaag aaga agaa gaac aaca acaa caac aacc acct cctc ctca tcag cagg agga ggat gatc atcc tcct cctt cttt tttt tttt ttta ttaa taat aata ataa taat aatg atgc tgct gctg ctgt tgta gtaa taaa aaag aaga agaa gaaa aaac aacg acgt cgtt gttt tttg ttga tgat gatg atga tgac gaca acag caga agac gaca acag caga agaa gaag aagg agga ggat gatt attg ttgg tggc ggct gctg ctgc tgcc gcct cctt cttt tttt ttta ttat tatc atca tcag cagg aggg gggg gggg gggc ggct gctt cttg ttgg tgga ggac gact actc ctcc tcca ccag cagc agct gctt cttg ttgg tggt ggtt gttg ttgc tgct gctg ctgc tgcc gcca ccac cact actc ctct tctg ctgt tgtt gttg ttga tgaa gaag aagc agca gcag cagc agct gctg ctga tgaa gaaa aaag aaga agaa gaag aagc agcc gccc ccca ccaa caag aagt agta gtac taca acag cagt agta gtat tatc atcc tcct cctc ctct tctc ctcc tcca ccag caga agac gaca acat catt attt tttg ttgc tgca gcaa caat aatt attg ttgg tggc ggca gcat catg atgg tgga ggaa gaag aaga agac gaca acag cagc agcc gccc cccc cccg ccga cgat gatt attt ttta ttac tact actg ctgg tggc ggct gctg ctgc tgct gcta ctag taga agaa gaaa aaag aagg aggt ggtg gtgg tggc ggca gcag caga agat gatc atca tcat cata atat tatt attg ttgg tgga ggaa gaag aagt agtg gtga tgaa gaac aaca acat catt atta ttat tatg atga tgaa gaag aagt agtc gtcc tcct cctt cttt tttt tttt ttta ttaa taac aact actc ctct tctg ctga tgag gagg agga ggaa gaag aagg aggc ggca gcat catt attc ttca tcag cagg aggc ggct gctc ctct tctg ctgg tgga ggat gatg atga tgaa gaag aagt agtc gtca tcat cata atat tatt attt tttt tttc ttcc tcct cctt cttg ttgg tgga ggaa gaaa aaac aact actt ctta ttat tatg atga tgac gaca acat catt atta ttac taca acaa caac aaca acag cagt agtt gttc ttcg tcgt cgtg gtgc tgct gctt cttc ttca tcag cagt agta gtag tagg aggt ggta gtat tatg atgt tgta gtat tatt attt ttta ttaa taat aatt attt tttc ttcc tcca ccaa caag aagt agta gtat tata atat tatt attc ttcg tcgg cgga ggaa gaag aaga agaa gaac aaca acac caca acag caga agat gata atag tagc agcg gcgt cgtg gtgg tggt ggtg gtga tgat gatc atct tctt cttc ttct tctc ctct tctg ctgg tgga ggag gaga agaa gaag aagg agga ggat gatc atca tcag caga agat gatg atga tgaa gaac aact actt ctta ttac tacg acgc cgca gcag cagg aggg gggt ggtt gtta ttac taca acat cata atat tata atat tatt attt tttt tttc ttca tcac caca acaa caag aagg aggc ggct gctc ctcc tcct cctt cttc ttct tctc ctcc tcct cctg ctga tgaa gaaa aaaa aaaa aaag aagc agcc gccg ccga cgag gagg agga ggag gagg agga ggag gaga agag gagt agtg gtga tgag gaga agag gagg aggc ggct gctt cttc ttct tctg ctga tgag gagg aggg ggga ggaa gaac aact actc ctct tcta ctat tatt attt tttg ttgt tgtt gttt tttg ttga tgat gatg atgt tgtt gttc ttct tctc ctcc tccg ccgc cgcg gcgc cgca gcag caga agat gatc atcg tcga cgaa gaac aact acta ctac tact actg ctgc tgct gctg ctgc tgcc gccc ccca ccat catg atgg tggt ggtc gtct tctt cttg ttga tgaa gaac aact actg ctga tgag gaga agag gagt agtc gtcc tccc ccca ccat catt attt tttc ttct tcta ctag taga agat gatc atca tcat catc atcg tcga cgat gatt attt tttt tttc ttct tctt cttc ttcc tcct ccta ctat tatt atta ttac tact actt cttg ttgt tgtc gtct tctc ctct tctg ctgc tgcc gcca ccac cacc acca ccag caga agaa gaaa aaat aatg atga tgag gaga agaa gaat aatt attc ttcc tcca ccaa caaa aaag aaga agaa gaat aatg atgg tggg ggga ggat gata atag taga agaa gaaa aaaa aaaa aaac aaca acat catc atct tctc ctcc tcct cctg ctga tgag gaga agag gaga agag gaga agac gacg acgt cgtt gttt tttg ttga tgag gagg agga ggat gatt attc ttcc tcca ccaa caat aatc atct tctg ctga tgat gata atac tacc accc ccca ccaa caaa aaag aaga agag gaga agat gatt attc ttct tctc ctct tctg ctgg tggc ggcg gcga cgac gacc acca ccaa caaa aaaa aaag aaga agaa gaag aagc agcc gcct cctt cttc ttca tcag cagt agtg gtga tgat gatg atgg tgga ggaa gaat aata ataa taac aact actt cttc ttca tcag cagt agtt gtta ttaa taag aaga agaa gaat aatt attc ttcc tcct cctg ctgg tggt ggtt gttt ttta ttaa taag aaga agat gatt attt tttt ttta ttac taca acag cagg agga ggaa gaat aata atac tacg acgt cgtt gttg ttga tgaa gaac aaca acat catc atca tcag cagg aggt ggtt gttg ttga tgat gatg atga tgat gatg atgc tgca gcaa caat aatg atga tgat gatg atgg tggc ggca gcaa caaa aaat aatg atgc tgca gcag cagc agcc gccc ccca ccag caga agaa gaaa aaat aatt attt tttc ttcc tccc ccct cctt cttc ttca tcaa caat aata atac tact actc ctcc tcct ccta ctaa taaa aaaa aaac aacc acca ccaa caaa aaag aaga agaa gaag aagg agga ggat gata atat tatt atta ttac tact acta ctac tacc accg ccgt cgtc gtca tcaa caag aagt agtc gtct tctt cttt tttg ttga tgaa gaac aacg acgc cgcc gcca ccat catt atta ttac tacc accc ccca ccag cagg aggc ggcc gccg ccgg cggg gggc ggct gctg ctga tgac gact actg ctgg tggc ggct gctg ctga tgag gagc agcc gcca ccat catt atta ttac tact actg ctgg tgga ggat gatg atgc tgcc gccc ccca ccaa caag aagt agtg gtgg tgga ggat gatc atca tcaa caat aatg atgc tgcc gcca ccac cact actg ctga tgac gacc accc ccct cctt cttc ttct tctg ctgc tgcc gccc cccg ccgc cgca gcac cacg acgc cgct gctg ctga tgac gacc accc ccca ccac cact acta ctac taca acaa caag aagt agtc gtca tcag cagc agct gctg ctgt tgtc gtca tcaa caaa aaag aagc agct gctt ctta ttag'"
            ]
          },
          "metadata": {
            "tags": []
          },
          "execution_count": 13
        }
      ]
    },
    {
      "cell_type": "code",
      "metadata": {
        "colab": {
          "base_uri": "https://localhost:8080/"
        },
        "id": "WN5mlxJ6OqWa",
        "outputId": "c3fef47e-0b90-40d9-9502-c9057625ebe3"
      },
      "source": [
        "y_human"
      ],
      "execution_count": 14,
      "outputs": [
        {
          "output_type": "execute_result",
          "data": {
            "text/plain": [
              "array([4, 4, 3, ..., 6, 6, 6])"
            ]
          },
          "metadata": {
            "tags": []
          },
          "execution_count": 14
        }
      ]
    },
    {
      "cell_type": "markdown",
      "metadata": {
        "id": "UOdUV59iOzlz"
      },
      "source": [
        "**Feature Extraction using Count Vectorizer**"
      ]
    },
    {
      "cell_type": "code",
      "metadata": {
        "id": "xXzlZX-vO6QB"
      },
      "source": [
        "from sklearn.feature_extraction.text import CountVectorizer\n",
        "cv = CountVectorizer(ngram_range=(4,4))\n",
        "X = cv.fit_transform(human_texts)"
      ],
      "execution_count": 15,
      "outputs": []
    },
    {
      "cell_type": "code",
      "metadata": {
        "colab": {
          "base_uri": "https://localhost:8080/"
        },
        "id": "lqbbSn0qPG_x",
        "outputId": "bcdb8f55-2190-4633-b61f-260893ac4d9f"
      },
      "source": [
        "print(X.shape)"
      ],
      "execution_count": 16,
      "outputs": [
        {
          "output_type": "stream",
          "text": [
            "(4380, 16834)\n"
          ],
          "name": "stdout"
        }
      ]
    },
    {
      "cell_type": "code",
      "metadata": {
        "colab": {
          "base_uri": "https://localhost:8080/",
          "height": 281
        },
        "id": "DVlCKq2eQMQJ",
        "outputId": "c3a670b0-3759-4608-e918-570e900b9966"
      },
      "source": [
        "human[\"class\"].value_counts().sort_index().plot.bar()"
      ],
      "execution_count": 17,
      "outputs": [
        {
          "output_type": "execute_result",
          "data": {
            "text/plain": [
              "<matplotlib.axes._subplots.AxesSubplot at 0x7f2a8c146f50>"
            ]
          },
          "metadata": {
            "tags": []
          },
          "execution_count": 17
        },
        {
          "output_type": "display_data",
          "data": {
            "image/png": "[encoded data removed]",
            "text/plain": [
              "<Figure size 432x288 with 1 Axes>"
            ]
          },
          "metadata": {
            "tags": [],
            "needs_background": "light"
          }
        }
      ]
    }
  ]
}